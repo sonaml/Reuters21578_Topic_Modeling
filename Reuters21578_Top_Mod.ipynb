{
 "cells": [
  {
   "cell_type": "markdown",
   "metadata": {},
   "source": [
    "# Data\n",
    "We will build a class ReutersSGMLParser that inherits HTMLParser. We override three methods, handle_starttag, handle_endtag and handle_data. These methods tell the parser what to do at the beginning and closing of SGML tags, and how to handle the data in between. Additional methods reset and parse resets the state of the tags and parses the documents respectively."
   ]
  },
  {
   "cell_type": "code",
   "execution_count": 274,
   "metadata": {},
   "outputs": [],
   "source": [
    "from html.parser import HTMLParser\n",
    "import re\n",
    "\n",
    "from sklearn.model_selection import train_test_split\n",
    "from sklearn.feature_extraction.text import TfidfVectorizer\n",
    "from sklearn.metrics import confusion_matrix\n",
    "\n",
    "\n",
    "class ReutersSGMLParser(HTMLParser):\n",
    "    \"\"\"\n",
    "    This class is used to open the sgm files in the reuters21578.\n",
    "    \n",
    "    Data will be chunked on parsing. bool_in_body, bool_in_topics and bool_in_topic_d kee\n",
    "    keep track of internal state of when tags have been \"entered\" and \"exited\".\n",
    "\n",
    "    \"\"\"\n",
    "    def __init__(self, encoding='latin-1'):\n",
    "        \"\"\"\n",
    "        Initialise the superclass (HTMLParser) and reset the parser.\n",
    "        Sets the encoding of the SGML files by default to latin-1.\n",
    "        \"\"\"\n",
    "        HTMLParser.__init__(self)\n",
    "        self._reset()\n",
    "        self.encoding = encoding\n",
    "\n",
    "    def _reset(self):\n",
    "        \"\"\"\n",
    "        This is called only on initialisation of the parser class\n",
    "        and when a new topic-body tuple has been generated. It\n",
    "        resets all off the state so that a new tuple can be subsequently\n",
    "        generated.\n",
    "        \"\"\"\n",
    "        self.bool_in_body = False\n",
    "        self.bool_in_topics = False\n",
    "        self.bool_in_topic_d = False\n",
    "        self.body = \"\"\n",
    "        self.topics = []\n",
    "        self.topic_d = \"\"\n",
    "\n",
    "    def parse(self, fd):\n",
    "        \"\"\"\n",
    "        parse accepts a file descriptor and loads the data in chunks\n",
    "        in order to minimise memory usage. It then yields new documents\n",
    "        as they are parsed.\n",
    "        \"\"\"\n",
    "        self.docs = []\n",
    "        for chunk in fd:\n",
    "            self.feed(chunk.decode(self.encoding))\n",
    "            for doc in self.docs:\n",
    "                yield doc\n",
    "            self.docs = []\n",
    "        self.close()\n",
    "\n",
    "    def handle_starttag(self, tag, attrs):\n",
    "        \"\"\"\n",
    "        This method is used to determine what to do when the parser\n",
    "        comes across a particular tag of type \"tag\". In this instance\n",
    "        we simply set the internal state booleans to True if that particular\n",
    "        tag has been found.\n",
    "        \"\"\"\n",
    "        if tag == \"reuters\":\n",
    "            pass\n",
    "        elif tag == \"body\":\n",
    "            self.bool_in_body = True\n",
    "        elif tag == \"topics\":\n",
    "            self.bool_in_topics = True\n",
    "        elif tag == \"d\":\n",
    "            self.bool_in_topic_d = True \n",
    "\n",
    "    def handle_endtag(self, tag):\n",
    "        \"\"\"\n",
    "        This method is used to determine what to do when the parser\n",
    "        finishes with a particular tag of type \"tag\". \n",
    "        \"\"\"\n",
    "        if tag == \"reuters\":\n",
    "            self.body = re.sub(r'\\s+', r' ', self.body)\n",
    "            self.docs.append( (self.topics, self.body) )\n",
    "            self._reset()\n",
    "        elif tag == \"body\":\n",
    "            self.bool_in_body = False\n",
    "        elif tag == \"topics\":\n",
    "            self.bool_in_topics = False\n",
    "        elif tag == \"d\":\n",
    "            self.bool_in_topic_d = False\n",
    "            self.topics.append(self.topic_d)\n",
    "            self.topic_d = \"\"  \n",
    "\n",
    "    def handle_data(self, data):\n",
    "        \"\"\"\n",
    "        The data is simply appended to the appropriate member state\n",
    "        for that particular tag, up until the end closing tag appears.\n",
    "        \"\"\"\n",
    "        if self.bool_in_body:\n",
    "            self.body += data\n",
    "        elif self.bool_in_topic_d:\n",
    "            self.topic_d += data\n",
    "    \n",
    "\n"
   ]
  },
  {
   "cell_type": "markdown",
   "metadata": {},
   "source": [
    "# Preprocessing\n",
    "In the method doc_list_filtering, we filter the list of two-tuples that contain list of topics and body text."
   ]
  },
  {
   "cell_type": "code",
   "execution_count": 277,
   "metadata": {},
   "outputs": [],
   "source": [
    "def doc_list_filtering(topics_list, docs):\n",
    "    \"\"\"\n",
    "    Reads all of the documents and creates a new list of two-tuples.\n",
    "    The two-tuples list contains a single feature entry and the body text, instead of\n",
    "    a list of topics. It retains those documents which have at least one non-geographic\n",
    "    topic and keeps the non-geopgraphic topic from the list of topics\n",
    "    as the first entry in the tuple.\n",
    "    \"\"\"\n",
    "    filtered_docs = []\n",
    "    for doc in docs:\n",
    "        if doc[0] == [] or doc[0] == \"\":\n",
    "            continue\n",
    "        count = 0\n",
    "        new_doc_topic_list = []\n",
    "        for topic in doc[0]:                   \n",
    "            if topic in topics_list:\n",
    "                new_doc_topic_list.append(topic) \n",
    "                count += 1\n",
    "        if count!=0:\n",
    "            doc_tup = (new_doc_topic_list, doc[1])\n",
    "            filtered_docs.append(doc_tup)\n",
    "            #break\n",
    "                \n",
    "    return filtered_docs\n",
    "\n",
    "def vectorize_data(docs):\n",
    "    \"\"\"\n",
    "    Creates a document corpus list (by stripping out the\n",
    "    class labels), then applies the TF-IDF transform to this\n",
    "    list. \n",
    "\n",
    "    The function returns single_y_label (only the first topic from topic list of each document), \n",
    "    list_y_label(all topic list  of each document), all_y (all topics from all documents as a single list),\n",
    "    corpus (document body text) and X (vectorized corpus).\n",
    "    \"\"\"\n",
    "    # Create the training data class labels\n",
    "    all_y = []\n",
    "    for items in docs:\n",
    "        for i in items[0]:\n",
    "            all_y.append(i)\n",
    "        \n",
    "    single_y_label = [items[0][0] for items in docs]\n",
    "    list_y_label = [items[0] for items in docs]\n",
    "    \n",
    "    # Create the document corpus list\n",
    "    corpus = [items[1] for items in docs]\n",
    "\n",
    "    # Create the TF-IDF vectoriser and transform the corpus\n",
    "    vectorizer = TfidfVectorizer(max_df = 0.95, min_df=2, stop_words='english')\n",
    "    X = vectorizer.fit_transform(corpus)\n",
    "    \n",
    "    return X, single_y_label, list_y_label, all_y, corpus, vectorizer\n"
   ]
  },
  {
   "cell_type": "code",
   "execution_count": 313,
   "metadata": {},
   "outputs": [
    {
     "name": "stdout",
     "output_type": "stream",
     "text": [
      "The U.S. Agriculture Department reported the farmer-owned reserve national five-day average price through February 25 as follows (Dlrs/Bu-Sorghum Cwt) - Natl Loan Release Call Avge Rate-X Level Price Price Wheat 2.55 2.40 IV 4.65 -- V 4.65 -- VI 4.45 -- Corn 1.35 1.92 IV 3.15 3.15 V 3.25 -- X - 1986 Rates. Natl Loan Release Call Avge Rate-X Level Price Price Oats 1.24 0.99 V 1.65 -- Barley n.a. 1.56 IV 2.55 2.55 V 2.65 -- Sorghum 2.34 3.25-Y IV 5.36 5.36 V 5.54 -- Reserves I, II and III have matured. Level IV reflects grain entered after Oct 6, 1981 for feedgrain and after July 23, 1981 for wheat. Level V wheat/barley after 5/14/82, corn/sorghum after 7/1/82. Level VI covers wheat entered after January 19, 1984. X-1986 rates. Y-dlrs per CWT (100 lbs). n.a.-not available. Reuter \n"
     ]
    }
   ],
   "source": [
    "\n",
    "if __name__ == \"__main__\":\n",
    "    # Create the list of Reuters data and create the parser\n",
    "    files = [\"reuters21578/reut2-%03d.sgm\" % r for r in range(0, 22)]\n",
    "    parser = ReutersSGMLParser()\n",
    "\n",
    "    # Parse the document and force all generated docs into\n",
    "    # a list so that it can be printed out to the console\n",
    "    docs = []\n",
    "    for file_name in files:\n",
    "        for d in parser.parse(open(file_name, 'rb')):\n",
    "            docs.append(d)\n",
    "\n",
    "    # Obtain the topic tags and filter docs through it \n",
    "    \n",
    "    \"\"\"\"Open the topic list file and import all of the topic names\n",
    "    taking care to strip the trailing \"\\n\" from each word.\n",
    "    \"\"\"\n",
    "    topics = open(\"reuters21578/all-topics-strings.lc.txt\", \"r\").readlines()\n",
    "    topics_list = [t.strip() for t in topics]\n",
    "\n",
    "    filtered_docs = doc_list_filtering(topics_list, docs)\n",
    "   \n",
    "    \n",
    "    # Vectorise and TF-IDF transform the corpus \n",
    "    X, single_y_label, list_y_label, all_y, corpus, vectorizer = vectorize_data(filtered_docs)\n",
    "\n",
    "  \n",
    "    print(corpus[1])"
   ]
  },
  {
   "cell_type": "code",
   "execution_count": 314,
   "metadata": {},
   "outputs": [
    {
     "name": "stdout",
     "output_type": "stream",
     "text": [
      "11367\n",
      "11367\n",
      "14302\n",
      "11367\n"
     ]
    },
    {
     "data": {
      "text/plain": [
       "<11367x16298 sparse matrix of type '<class 'numpy.float64'>'\n",
       "\twith 582673 stored elements in Compressed Sparse Row format>"
      ]
     },
     "execution_count": 314,
     "metadata": {},
     "output_type": "execute_result"
    }
   ],
   "source": [
    "from pandas import DataFrame\n",
    "corpus_df = DataFrame({'Articles':corpus, 'Original Topic':list_y_label})\n",
    "corpus_df.head\n",
    "\n",
    "print(len(single_y_label))\n",
    "print(len(list_y_label))\n",
    "print(len(all_y))\n",
    "print(len(corpus))\n",
    "X"
   ]
  },
  {
   "cell_type": "markdown",
   "metadata": {},
   "source": [
    "# Non-negative Matrix Factorization"
   ]
  },
  {
   "cell_type": "code",
   "execution_count": 315,
   "metadata": {},
   "outputs": [
    {
     "name": "stdout",
     "output_type": "stream",
     "text": [
      "<class 'collections.Counter'>\n"
     ]
    },
    {
     "data": {
      "image/png": "[encoded data removed]",
      "text/plain": [
       "<Figure size 1440x720 with 1 Axes>"
      ]
     },
     "metadata": {
      "needs_background": "light"
     },
     "output_type": "display_data"
    }
   ],
   "source": [
    "import pandas\n",
    "from collections import Counter\n",
    "import matplotlib.pyplot as plt\n",
    "topic_counts = Counter(all_y)\n",
    "print(type(topic_counts))\n",
    "\n",
    "df = pandas.DataFrame.from_dict(topic_counts, orient='index')\n",
    "\n",
    "#newlist = y.index(['earn','acq'])\n",
    "ax = df.plot(kind='bar', legend = None, figsize = (20,10), fontsize = 12)\n",
    "\n"
   ]
  },
  {
   "cell_type": "code",
   "execution_count": 316,
   "metadata": {},
   "outputs": [
    {
     "data": {
      "text/plain": [
       "<11367x16298 sparse matrix of type '<class 'numpy.float64'>'\n",
       "\twith 582673 stored elements in Compressed Sparse Row format>"
      ]
     },
     "execution_count": 316,
     "metadata": {},
     "output_type": "execute_result"
    }
   ],
   "source": [
    "X"
   ]
  },
  {
   "cell_type": "code",
   "execution_count": 299,
   "metadata": {},
   "outputs": [],
   "source": [
    "from sklearn.decomposition import NMF"
   ]
  },
  {
   "cell_type": "code",
   "execution_count": 300,
   "metadata": {},
   "outputs": [],
   "source": [
    "nmf_model = NMF(n_components = 20, random_state = 42)"
   ]
  },
  {
   "cell_type": "code",
   "execution_count": 301,
   "metadata": {},
   "outputs": [
    {
     "data": {
      "text/plain": [
       "NMF(n_components=20, random_state=42)"
      ]
     },
     "execution_count": 301,
     "metadata": {},
     "output_type": "execute_result"
    }
   ],
   "source": [
    "nmf_model.fit(X)"
   ]
  },
  {
   "cell_type": "code",
   "execution_count": 302,
   "metadata": {},
   "outputs": [
    {
     "data": {
      "text/plain": [
       "16298"
      ]
     },
     "execution_count": 302,
     "metadata": {},
     "output_type": "execute_result"
    }
   ],
   "source": [
    "len(vectorizer.get_feature_names())"
   ]
  },
  {
   "cell_type": "code",
   "execution_count": 303,
   "metadata": {},
   "outputs": [
    {
     "name": "stdout",
     "output_type": "stream",
     "text": [
      "The top 15 words for topic # 0\n",
      "['31', '19', '12', '18', 'sales', 'reuter', 'note', 'mths', 'shrs', 'avg', 'revs', 'net', 'shr', 'cts', 'vs']\n",
      "\n",
      "\n",
      "The top 15 words for topic # 1\n",
      "['revenues', 'results', 'fourth', 'reported', 'fiscal', 'expects', '1987', 'sales', '1986', 'share', 'company', 'year', 'earnings', 'said', 'quarter']\n",
      "\n",
      "\n",
      "The top 15 words for topic # 2\n",
      "['qtr', 'june', '20', '30', '10', 'reuter', '15', 'vs', 'april', 'record', 'prior', 'pay', 'qtly', 'div', 'cts']\n",
      "\n",
      "\n",
      "The top 15 words for topic # 3\n",
      "['credits', '600', 'slaughter', '700', 'ago', '100', '20', 'cts', 'includes', '500', 'shrs', 'year', 'avg', 'sales', '000']\n",
      "\n",
      "\n",
      "The top 15 words for topic # 4\n",
      "['losses', 'qtr', 'ct', 'dlr', 'operations', 'note', 'discontinued', 'year', 'cts', 'net', 'includes', 'shr', 'revs', 'vs', 'loss']\n",
      "\n",
      "\n",
      "The top 15 words for topic # 5\n",
      "['acquisition', 'exchange', 'securities', 'investment', 'outstanding', 'stake', 'pct', 'offer', 'group', 'stock', 'common', 'corp', 'company', 'said', 'shares']\n",
      "\n",
      "\n",
      "The top 15 words for topic # 6\n",
      "['told', 'agreement', 'talks', 'government', 'tariffs', 'reagan', 'countries', 'united', 'officials', 'states', 'ec', 'japanese', 'said', 'japan', 'trade']\n",
      "\n",
      "\n",
      "The top 15 words for topic # 7\n",
      "['season', 'soviet', 'crop', 'tonne', 'agriculture', 'shipment', '87', 'department', 'grain', 'corn', 'said', 'export', 'sugar', 'wheat', 'tonnes']\n",
      "\n",
      "\n",
      "The top 15 words for topic # 8\n",
      "['prices', 'inflation', 'fell', 'rate', 'statistics', 'compared', 'december', '1986', 'index', 'rise', 'rose', 'year', 'february', 'january', 'pct']\n",
      "\n",
      "\n",
      "The top 15 words for topic # 9\n",
      "['compares', 'estimate', 'mln', 'provided', 'revised', 'today', 'assistance', 'market', 'money', 'shortage', 'band', 'england', 'bills', 'bank', 'stg']\n",
      "\n",
      "\n",
      "The top 15 words for topic # 10\n",
      "['january', '1985', 'reserves', 'assets', 'vs', 'crowns', 'marks', 'fell', 'loans', 'rose', 'deposits', 'deficit', 'surplus', 'francs', 'billion']\n",
      "\n",
      "\n",
      "The top 15 words for topic # 11\n",
      "['10', 'said', 'cts', 'shareholders', 'share', 'quarterly', 'holders', 'board', 'record', 'stock', 'declared', 'april', 'payable', 'split', 'dividend']\n",
      "\n",
      "\n",
      "The top 15 words for topic # 12\n",
      "['texas', 'day', 'petroleum', 'energy', 'price', 'production', 'bpd', 'barrels', 'barrel', 'gas', 'crude', 'prices', 'opec', 'said', 'oil']\n",
      "\n",
      "\n",
      "The top 15 words for topic # 13\n",
      "['parent', 'group', '1986', 'pretax', 'extraordinary', '1985', 'includes', 'year', 'francs', 'ct', 'tax', 'net', 'nil', 'vs', 'profit']\n",
      "\n",
      "\n",
      "The top 15 words for topic # 14\n",
      "['japan', 'paris', 'intervention', 'market', 'dealers', 'exchange', 'currency', 'banks', 'central', 'said', 'yen', 'rate', 'rates', 'dollar', 'bank']\n",
      "\n",
      "\n",
      "The top 15 words for topic # 15\n",
      "['shr', 'exclude', 'year', 'extraordinary', 'share', 'qtr', 'operations', 'net', 'note', 'gain', 'discontinued', 'vs', 'cts', 'excludes', 'oper']\n",
      "\n",
      "\n",
      "The top 15 words for topic # 16\n",
      "['15', 'extraordinary', '28', '27', '37', '16', 'year', '13', '12', 'tax', '17', '1986', '11', 'vs', 'mln']\n",
      "\n",
      "\n",
      "The top 15 words for topic # 17\n",
      "['market', 'said', 'trading', 'government', 'economists', 'securities', 'temporary', 'customer', 'agreements', 'repurchase', 'reserve', 'funds', 'reserves', 'federal', 'fed']\n",
      "\n",
      "\n",
      "The top 15 words for topic # 18\n",
      "['fund', 'franklin', 'prior', 'february', 'div', 'ended', 'pay', 'cts', '27', 'record', 'mthly', '13', '16', '31', 'march']\n",
      "\n",
      "\n",
      "The top 15 words for topic # 19\n",
      "['gains', 'cash', '1986', 'assets', 'mths', 'qtr', '50', 'loan', 'sale', 'note', 'share', 'gain', 'includes', 'net', 'dlrs']\n",
      "\n",
      "\n"
     ]
    }
   ],
   "source": [
    "for index, topic in enumerate(nmf_model.components_):\n",
    "    print(f'The top 15 words for topic # {index}')\n",
    "    print([vectorizer.get_feature_names()[i] for i in topic.argsort()[-15:]])\n",
    "    print('\\n')"
   ]
  },
  {
   "cell_type": "markdown",
   "metadata": {},
   "source": [
    "# Attaching Discoverd Topic Labels to Original Articles "
   ]
  },
  {
   "cell_type": "code",
   "execution_count": 304,
   "metadata": {},
   "outputs": [
    {
     "data": {
      "text/plain": [
       "(11367, 16298)"
      ]
     },
     "execution_count": 304,
     "metadata": {},
     "output_type": "execute_result"
    }
   ],
   "source": [
    "X.shape"
   ]
  },
  {
   "cell_type": "code",
   "execution_count": 305,
   "metadata": {},
   "outputs": [
    {
     "data": {
      "text/plain": [
       "11367"
      ]
     },
     "execution_count": 305,
     "metadata": {},
     "output_type": "execute_result"
    }
   ],
   "source": [
    "len(corpus_df)"
   ]
  },
  {
   "cell_type": "code",
   "execution_count": 306,
   "metadata": {},
   "outputs": [],
   "source": [
    "topic_results = nmf_model.transform(X)"
   ]
  },
  {
   "cell_type": "code",
   "execution_count": 307,
   "metadata": {},
   "outputs": [
    {
     "data": {
      "text/plain": [
       "(11367, 20)"
      ]
     },
     "execution_count": 307,
     "metadata": {},
     "output_type": "execute_result"
    }
   ],
   "source": [
    "topic_results.shape"
   ]
  },
  {
   "cell_type": "code",
   "execution_count": 308,
   "metadata": {},
   "outputs": [
    {
     "data": {
      "text/plain": [
       "array([2.79892778e-05, 0.00000000e+00, 3.67962608e-03, 4.30121209e-05,\n",
       "       0.00000000e+00, 0.00000000e+00, 0.00000000e+00, 3.90165121e-02,\n",
       "       1.68224014e-02, 0.00000000e+00, 3.04294632e-03, 0.00000000e+00,\n",
       "       6.23582410e-03, 0.00000000e+00, 8.14320055e-03, 0.00000000e+00,\n",
       "       2.20956846e-03, 1.63597266e-02, 6.60223357e-04, 1.83645497e-02])"
      ]
     },
     "execution_count": 308,
     "metadata": {},
     "output_type": "execute_result"
    }
   ],
   "source": [
    "topic_results[1]"
   ]
  },
  {
   "cell_type": "code",
   "execution_count": 309,
   "metadata": {},
   "outputs": [
    {
     "data": {
      "text/plain": [
       "7"
      ]
     },
     "execution_count": 309,
     "metadata": {},
     "output_type": "execute_result"
    }
   ],
   "source": [
    "topic_results[1].argmax()"
   ]
  },
  {
   "cell_type": "code",
   "execution_count": 310,
   "metadata": {},
   "outputs": [],
   "source": [
    "corpus_df['Modeled Topic No.'] = topic_results.argmax(axis = 1)"
   ]
  },
  {
   "cell_type": "code",
   "execution_count": 311,
   "metadata": {},
   "outputs": [
    {
     "data": {
      "text/html": [
       "<div>\n",
       "<style scoped>\n",
       "    .dataframe tbody tr th:only-of-type {\n",
       "        vertical-align: middle;\n",
       "    }\n",
       "\n",
       "    .dataframe tbody tr th {\n",
       "        vertical-align: top;\n",
       "    }\n",
       "\n",
       "    .dataframe thead th {\n",
       "        text-align: right;\n",
       "    }\n",
       "</style>\n",
       "<table border=\"1\" class=\"dataframe\">\n",
       "  <thead>\n",
       "    <tr style=\"text-align: right;\">\n",
       "      <th></th>\n",
       "      <th>Articles</th>\n",
       "      <th>Original Topic</th>\n",
       "      <th>Modeled Topic No.</th>\n",
       "    </tr>\n",
       "  </thead>\n",
       "  <tbody>\n",
       "    <tr>\n",
       "      <th>0</th>\n",
       "      <td>Showers continued throughout the week in the B...</td>\n",
       "      <td>[cocoa]</td>\n",
       "      <td>19</td>\n",
       "    </tr>\n",
       "    <tr>\n",
       "      <th>1</th>\n",
       "      <td>The U.S. Agriculture Department reported the f...</td>\n",
       "      <td>[grain, wheat, corn, barley, oat, sorghum]</td>\n",
       "      <td>7</td>\n",
       "    </tr>\n",
       "    <tr>\n",
       "      <th>2</th>\n",
       "      <td>Argentine grain board figures show crop regist...</td>\n",
       "      <td>[veg-oil, linseed, lin-oil, soy-oil, sun-oil, ...</td>\n",
       "      <td>7</td>\n",
       "    </tr>\n",
       "    <tr>\n",
       "      <th>3</th>\n",
       "      <td>Champion Products Inc said its board of direct...</td>\n",
       "      <td>[earn]</td>\n",
       "      <td>11</td>\n",
       "    </tr>\n",
       "    <tr>\n",
       "      <th>4</th>\n",
       "      <td>Computer Terminal Systems Inc said it has comp...</td>\n",
       "      <td>[acq]</td>\n",
       "      <td>5</td>\n",
       "    </tr>\n",
       "    <tr>\n",
       "      <th>5</th>\n",
       "      <td>Shr 34 cts vs 1.19 dlrs Net 807,000 vs 2,858,0...</td>\n",
       "      <td>[earn]</td>\n",
       "      <td>0</td>\n",
       "    </tr>\n",
       "    <tr>\n",
       "      <th>6</th>\n",
       "      <td>Ohio Mattress Co said its first quarter, endin...</td>\n",
       "      <td>[earn, acq]</td>\n",
       "      <td>1</td>\n",
       "    </tr>\n",
       "    <tr>\n",
       "      <th>7</th>\n",
       "      <td>Oper shr loss two cts vs profit seven cts Oper...</td>\n",
       "      <td>[earn]</td>\n",
       "      <td>13</td>\n",
       "    </tr>\n",
       "    <tr>\n",
       "      <th>8</th>\n",
       "      <td>Shr one dlr vs 73 cts Net 12.6 mln vs 15.8 mln...</td>\n",
       "      <td>[earn]</td>\n",
       "      <td>0</td>\n",
       "    </tr>\n",
       "    <tr>\n",
       "      <th>9</th>\n",
       "      <td>Dean Foods Co expects earnings for the fourth ...</td>\n",
       "      <td>[earn]</td>\n",
       "      <td>1</td>\n",
       "    </tr>\n",
       "  </tbody>\n",
       "</table>\n",
       "</div>"
      ],
      "text/plain": [
       "                                            Articles  \\\n",
       "0  Showers continued throughout the week in the B...   \n",
       "1  The U.S. Agriculture Department reported the f...   \n",
       "2  Argentine grain board figures show crop regist...   \n",
       "3  Champion Products Inc said its board of direct...   \n",
       "4  Computer Terminal Systems Inc said it has comp...   \n",
       "5  Shr 34 cts vs 1.19 dlrs Net 807,000 vs 2,858,0...   \n",
       "6  Ohio Mattress Co said its first quarter, endin...   \n",
       "7  Oper shr loss two cts vs profit seven cts Oper...   \n",
       "8  Shr one dlr vs 73 cts Net 12.6 mln vs 15.8 mln...   \n",
       "9  Dean Foods Co expects earnings for the fourth ...   \n",
       "\n",
       "                                      Original Topic  Modeled Topic No.  \n",
       "0                                            [cocoa]                 19  \n",
       "1         [grain, wheat, corn, barley, oat, sorghum]                  7  \n",
       "2  [veg-oil, linseed, lin-oil, soy-oil, sun-oil, ...                  7  \n",
       "3                                             [earn]                 11  \n",
       "4                                              [acq]                  5  \n",
       "5                                             [earn]                  0  \n",
       "6                                        [earn, acq]                  1  \n",
       "7                                             [earn]                 13  \n",
       "8                                             [earn]                  0  \n",
       "9                                             [earn]                  1  "
      ]
     },
     "execution_count": 311,
     "metadata": {},
     "output_type": "execute_result"
    }
   ],
   "source": [
    "corpus_df.head(10)"
   ]
  },
  {
   "cell_type": "code",
   "execution_count": 312,
   "metadata": {},
   "outputs": [
    {
     "name": "stdout",
     "output_type": "stream",
     "text": [
      "Counter({5: 2119, 0: 2028, 6: 837, 7: 823, 12: 812, 8: 647, 14: 586, 2: 454, 19: 451, 4: 344, 1: 336, 13: 327, 10: 297, 15: 284, 11: 232, 9: 189, 18: 175, 17: 173, 16: 154, 3: 99})\n"
     ]
    },
    {
     "data": {
      "image/png": "[encoded data removed]",
      "text/plain": [
       "<Figure size 1440x720 with 1 Axes>"
      ]
     },
     "metadata": {
      "needs_background": "light"
     },
     "output_type": "display_data"
    }
   ],
   "source": [
    "topic_counts2 = Counter(corpus_df['Modeled Topic No.'])\n",
    "print(topic_counts2)\n",
    "df = pandas.DataFrame.from_dict(topic_counts2, orient='index')\n",
    "\n",
    "#newlist = y.index(['earn','acq'])\n",
    "ax = df.plot(kind='bar', legend = None, figsize = (20,10), fontsize = 15)"
   ]
  },
  {
   "cell_type": "code",
   "execution_count": null,
   "metadata": {},
   "outputs": [],
   "source": []
  }
 ],
 "metadata": {
  "kernelspec": {
   "display_name": "Python 3",
   "language": "python",
   "name": "python3"
  },
  "language_info": {
   "codemirror_mode": {
    "name": "ipython",
    "version": 3
   },
   "file_extension": ".py",
   "mimetype": "text/x-python",
   "name": "python",
   "nbconvert_exporter": "python",
   "pygments_lexer": "ipython3",
   "version": "3.8.5"
  }
 },
 "nbformat": 4,
 "nbformat_minor": 4
}
