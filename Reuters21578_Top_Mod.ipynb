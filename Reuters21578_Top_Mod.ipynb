{
 "cells": [
  {
   "cell_type": "markdown",
   "metadata": {},
   "source": [
    "# Data\n",
    "We build a class ReutersSGMLParser that inherits HTMLParser. We override three methods, handle_starttag, handle_endtag and handle_data. These methods tell the parser what to do at the beginning and closing of SGML tags, and how to handle the data in between. Additional methods reset and parse resets the state of the tags and parses the documents respectively."
   ]
  },
  {
   "cell_type": "code",
   "execution_count": 132,
   "metadata": {},
   "outputs": [],
   "source": [
    "from html.parser import HTMLParser\n",
    "import re\n",
    "\n",
    "class ReutersSGMLParser(HTMLParser):\n",
    "    \"\"\"\n",
    "    This class is used to open the sgm files in the reuters21578.\n",
    "    \n",
    "    Data will be chunked on parsing. bool_in_body, bool_in_topics and bool_in_topic_d kee\n",
    "    keep track of internal state of when tags have been \"entered\" and \"exited\".\n",
    "\n",
    "    \"\"\"\n",
    "    def __init__(self, encoding='latin-1'):\n",
    "        \"\"\"\n",
    "        Initialise the superclass (HTMLParser) and reset the parser.\n",
    "        Sets the encoding of the SGML files by default to latin-1.\n",
    "        \"\"\"\n",
    "        HTMLParser.__init__(self)\n",
    "        self._reset()\n",
    "        self.encoding = encoding\n",
    "\n",
    "    def _reset(self):\n",
    "        \"\"\"\n",
    "        This is called only on initialisation of the parser class\n",
    "        and when a new topic-body tuple has been generated. It\n",
    "        resets all off the state so that a new tuple can be subsequently\n",
    "        generated.\n",
    "        \"\"\"\n",
    "        self.bool_in_body = False\n",
    "        self.bool_in_topics = False\n",
    "        self.bool_in_topic_d = False\n",
    "        self.body = \"\"\n",
    "        self.topics = []\n",
    "        self.topic_d = \"\"\n",
    "\n",
    "    def parse(self, fd):\n",
    "        \"\"\"\n",
    "        parse accepts a file descriptor and loads the data in chunks\n",
    "        in order to minimise memory usage. It then yields new documents\n",
    "        as they are parsed.\n",
    "        \"\"\"\n",
    "        self.docs = []\n",
    "        for chunk in fd:\n",
    "            self.feed(chunk.decode(self.encoding))\n",
    "            for doc in self.docs:\n",
    "                yield doc\n",
    "            self.docs = []\n",
    "        self.close()\n",
    "\n",
    "    def handle_starttag(self, tag, attrs):\n",
    "        \"\"\"\n",
    "        This method is used to determine what to do when the parser\n",
    "        comes across a particular tag of type \"tag\". In this instance\n",
    "        we simply set the internal state booleans to True if that particular\n",
    "        tag has been found.\n",
    "        \"\"\"\n",
    "        if tag == \"reuters\":\n",
    "            pass\n",
    "        elif tag == \"body\":\n",
    "            self.bool_in_body = True\n",
    "        elif tag == \"topics\":\n",
    "            self.bool_in_topics = True\n",
    "        elif tag == \"d\":\n",
    "            self.bool_in_topic_d = True \n",
    "\n",
    "    def handle_endtag(self, tag):\n",
    "        \"\"\"\n",
    "        This method is used to determine what to do when the parser\n",
    "        finishes with a particular tag of type \"tag\". \n",
    "        \"\"\"\n",
    "        if tag == \"reuters\":\n",
    "            self.body = re.sub(r'\\s+', r' ', self.body)\n",
    "            self.docs.append( (self.topics, self.body) )\n",
    "            self._reset()\n",
    "        elif tag == \"body\":\n",
    "            self.bool_in_body = False\n",
    "        elif tag == \"topics\":\n",
    "            self.bool_in_topics = False\n",
    "        elif tag == \"d\":\n",
    "            self.bool_in_topic_d = False\n",
    "            self.topics.append(self.topic_d)\n",
    "            self.topic_d = \"\"  \n",
    "\n",
    "    def handle_data(self, data):\n",
    "        \"\"\"\n",
    "        The data is simply appended to the appropriate member state\n",
    "        for that particular tag, up until the end closing tag appears.\n",
    "        \"\"\"\n",
    "        if self.bool_in_body:\n",
    "            self.body += data\n",
    "        elif self.bool_in_topic_d:\n",
    "            self.topic_d += data\n",
    "    \n",
    "\n"
   ]
  },
  {
   "cell_type": "markdown",
   "metadata": {},
   "source": [
    "# Preprocessing\n",
    "Now, we preprocess the data for topic modeling. For the preprocessing, method doc_list_filtering() filters the list of two-tuples that contain list of topics and body text, method clean() removes unwanted characters and words from the text, and method Vectorize_data() converts the body texts into vectors using (term frequency-inverse document frequency). "
   ]
  },
  {
   "cell_type": "code",
   "execution_count": 133,
   "metadata": {},
   "outputs": [],
   "source": [
    "import nltk\n",
    "from nltk.corpus import stopwords\n",
    "from nltk.tokenize import word_tokenize\n",
    "\n",
    "from sklearn.feature_extraction.text import TfidfVectorizer\n",
    "\n",
    "#nltk.download('stopwords')\n",
    "#nltk.download('punkt')\n",
    "\n",
    "def doc_list_filtering(topics_list, docs):\n",
    "    \"\"\"\n",
    "    Reads all of the documents and creates a new list of two-tuples.\n",
    "    The two-tuples list contains a single feature entry and the body text, instead of\n",
    "    a list of topics. It retains those documents which have at least one non-geographic\n",
    "    topic and keeps the non-geopgraphic topic from the list of topics\n",
    "    as the first entry in the tuple.\n",
    "    \"\"\"\n",
    "    filtered_docs = []\n",
    "    for doc in docs:\n",
    "        if doc[0] == [] or doc[0] == \"\":\n",
    "            continue\n",
    "        count = 0\n",
    "        new_doc_topic_list = []\n",
    "        for topic in doc[0]:                   \n",
    "            if topic in topics_list:\n",
    "                new_doc_topic_list.append(topic) \n",
    "                count += 1\n",
    "        if count!=0:\n",
    "            doc_tup = (new_doc_topic_list, doc[1])\n",
    "            filtered_docs.append(doc_tup)\n",
    "            #break\n",
    "                \n",
    "    return filtered_docs\n",
    "\n",
    "\n",
    "def clean(text):\n",
    "    # Lowering letters\n",
    "    text = text.lower()\n",
    "    # Removing html tags\n",
    "    text = re.sub('<[^>]*>', '', text)\n",
    "    # Removing emails\n",
    "    text = re.sub('\\S*@\\S*\\s?', '', text)\n",
    "    # Removing urls\n",
    "    text = re.sub('https?://[A-Za-z0-9]','',text)\n",
    "    # Removing numbers\n",
    "    text = re.sub('[^a-zA-Z]',' ',text)\n",
    "    text = re.sub('reuter',' ',text)\n",
    "    word_tokens = word_tokenize(text)    \n",
    "    filtered_sentence = []\n",
    "    stop_words = set(stopwords.words('english'))\n",
    "    for word_token in word_tokens:\n",
    "        if word_token not in stop_words:\n",
    "            filtered_sentence.append(word_token)\n",
    "    \n",
    "    # Joining words\n",
    "    text = (' '.join(filtered_sentence))\n",
    "    return text\n",
    "\n",
    "\n",
    "def vectorize_data(docs):\n",
    "    \"\"\"\n",
    "    Creates a document corpus list (by stripping out the\n",
    "    class labels), then applies the TF-IDF transform to this\n",
    "    list. \n",
    "\n",
    "    The function returns single_y_label (only the first topic from topic list of each document), \n",
    "    list_y_label(all topic list  of each document), all_y (all topics from all documents as a single list),\n",
    "    corpus (document body text) and X (vectorized corpus).\n",
    "    \"\"\"\n",
    "    # Create the training data class labels\n",
    "    all_y = []\n",
    "    for items in docs:\n",
    "        for i in items[0]:\n",
    "            all_y.append(i)\n",
    "        \n",
    "    single_y_label = [items[0][0] for items in docs]\n",
    "    list_y_label = [items[0] for items in docs]\n",
    "    \n",
    "    \n",
    "    \n",
    "    # Create the document corpus list\n",
    "    corpus = [clean(items[1]) for items in docs]\n",
    "\n",
    "   \n",
    "    \n",
    "    \n",
    "    # Create the TF-IDF vectoriser and transform the corpus\n",
    "    vectorizer = TfidfVectorizer(max_df = 0.95, min_df=2, stop_words ='english')\n",
    "    X = vectorizer.fit_transform(corpus)\n",
    "    \n",
    "    return X, single_y_label, list_y_label, all_y, corpus, vectorizer\n"
   ]
  },
  {
   "cell_type": "code",
   "execution_count": 134,
   "metadata": {},
   "outputs": [
    {
     "name": "stdout",
     "output_type": "stream",
     "text": [
      "u agriculture department reported farmer owned reserve national five day average price february follows dlrs bu sorghum cwt natl loan release call avge rate x level price price wheat iv v vi corn iv v x rates natl loan release call avge rate x level price price oats v barley n iv v sorghum iv v reserves ii iii matured level iv reflects grain entered oct feedgrain july wheat level v wheat barley corn sorghum level vi covers wheat entered january x rates dlrs per cwt lbs n available\n"
     ]
    }
   ],
   "source": [
    "# Create the list of Reuters data and create the parser\n",
    "files = [\"reuters21578/reut2-%03d.sgm\" % r for r in range(0, 22)]\n",
    "parser = ReutersSGMLParser()\n",
    "\n",
    "# Parse the document and force all generated docs into\n",
    "# a list so that it can be printed out to the console\n",
    "\n",
    "docs = []\n",
    "for file_name in files:\n",
    "    for d in parser.parse(open(file_name, 'rb')):\n",
    "        docs.append(d)\n",
    "\n",
    "# Obtain the topic tags and filter docs through it \n",
    "    \n",
    "\"\"\"\"Open the topic list file and import all of the topic names\n",
    "taking care to strip the trailing \"\\n\" from each word.\n",
    "\"\"\"\n",
    "\n",
    "topics = open(\"reuters21578/all-topics-strings.lc.txt\", \"r\").readlines()\n",
    "topics_list = [t.strip() for t in topics]\n",
    "\n",
    "filtered_docs = doc_list_filtering(topics_list, docs)\n",
    "   \n",
    "    \n",
    "# Vectorise and TF-IDF transform the corpus \n",
    "X, single_y_label, list_y_label, all_y, corpus, vectorizer = vectorize_data(filtered_docs)\n",
    "\n",
    "print(corpus[1])"
   ]
  },
  {
   "cell_type": "code",
   "execution_count": null,
   "metadata": {},
   "outputs": [],
   "source": []
  },
  {
   "cell_type": "code",
   "execution_count": 135,
   "metadata": {},
   "outputs": [
    {
     "name": "stdout",
     "output_type": "stream",
     "text": [
      "11367\n",
      "11367\n",
      "14302\n",
      "11367\n"
     ]
    },
    {
     "data": {
      "text/plain": [
       "<11367x14543 sparse matrix of type '<class 'numpy.float64'>'\n",
       "\twith 488281 stored elements in Compressed Sparse Row format>"
      ]
     },
     "execution_count": 135,
     "metadata": {},
     "output_type": "execute_result"
    }
   ],
   "source": [
    "import pandas as pd\n",
    "\n",
    "corpus_df = pd.DataFrame({'Articles':corpus, 'Original Topic':list_y_label})\n",
    "corpus_df.head\n",
    "\n",
    "print(len(single_y_label))\n",
    "print(len(list_y_label))\n",
    "print(len(all_y))\n",
    "print(len(corpus))\n",
    "X"
   ]
  },
  {
   "cell_type": "markdown",
   "metadata": {},
   "source": [
    "# Non-negative Matrix Factorization\n",
    "In thie section, we implement the non-negative matrix factorization method for topic modeling."
   ]
  },
  {
   "cell_type": "code",
   "execution_count": 136,
   "metadata": {},
   "outputs": [
    {
     "name": "stdout",
     "output_type": "stream",
     "text": [
      "<class 'pandas.core.frame.DataFrame'>\n",
      "          Counts\n",
      "earn        3972\n",
      "acq         2423\n",
      "money-fx     682\n",
      "crude        543\n",
      "grain        537\n"
     ]
    },
    {
     "data": {
      "image/png": "[encoded data removed]",
      "text/plain": [
       "<Figure size 1440x720 with 1 Axes>"
      ]
     },
     "metadata": {
      "needs_background": "light"
     },
     "output_type": "display_data"
    }
   ],
   "source": [
    "\n",
    "from collections import Counter\n",
    "import matplotlib.pyplot as plt\n",
    "\n",
    "topic_counts = Counter(single_y_label)\n",
    "#print(type(topic_counts))\n",
    "\n",
    "df = pd.DataFrame.from_dict(topic_counts, orient='index')\n",
    "print(type(df))\n",
    "df.columns =['Counts']\n",
    "df = df.sort_values(by=['Counts'], ascending = False)\n",
    "print(df.head())\n",
    "\n",
    "#newlist = y.index(['earn','acq'])\n",
    "ax = df.plot(kind='bar', legend = None, figsize = (20,10), fontsize = 12)\n",
    "\n"
   ]
  },
  {
   "cell_type": "code",
   "execution_count": 137,
   "metadata": {},
   "outputs": [
    {
     "data": {
      "text/plain": [
       "<11367x14543 sparse matrix of type '<class 'numpy.float64'>'\n",
       "\twith 488281 stored elements in Compressed Sparse Row format>"
      ]
     },
     "execution_count": 137,
     "metadata": {},
     "output_type": "execute_result"
    }
   ],
   "source": [
    "X"
   ]
  },
  {
   "cell_type": "code",
   "execution_count": 138,
   "metadata": {},
   "outputs": [],
   "source": [
    "from sklearn.decomposition import NMF"
   ]
  },
  {
   "cell_type": "code",
   "execution_count": 139,
   "metadata": {},
   "outputs": [],
   "source": [
    "nmf_model = NMF(n_components = 20, random_state = 42)"
   ]
  },
  {
   "cell_type": "code",
   "execution_count": 140,
   "metadata": {},
   "outputs": [
    {
     "data": {
      "text/plain": [
       "NMF(n_components=20, random_state=42)"
      ]
     },
     "execution_count": 140,
     "metadata": {},
     "output_type": "execute_result"
    }
   ],
   "source": [
    "nmf_model.fit(X)"
   ]
  },
  {
   "cell_type": "code",
   "execution_count": 141,
   "metadata": {},
   "outputs": [
    {
     "data": {
      "text/plain": [
       "14543"
      ]
     },
     "execution_count": 141,
     "metadata": {},
     "output_type": "execute_result"
    }
   ],
   "source": [
    "len(vectorizer.get_feature_names())"
   ]
  },
  {
   "cell_type": "code",
   "execution_count": 142,
   "metadata": {},
   "outputs": [
    {
     "name": "stdout",
     "output_type": "stream",
     "text": [
      "The top 15 words for topic # 0\n",
      "['gain', 'given', 'rev', 'ended', 'includes', 'seven', 'qtr', 'sales', 'note', 'mths', 'revs', 'net', 'shr', 'cts', 'vs']\n",
      "\n",
      "\n",
      "The top 15 words for topic # 1\n",
      "['previously', 'mthly', 'payable', 'qtrly', 'qtr', 'june', 'march', 'vs', 'april', 'prior', 'record', 'pay', 'qtly', 'div', 'cts']\n",
      "\n",
      "\n",
      "The top 15 words for topic # 2\n",
      "['exchange', 'securities', 'investment', 'share', 'pct', 'outstanding', 'stake', 'offer', 'group', 'stock', 'corp', 'common', 'company', 'said', 'shares']\n",
      "\n",
      "\n",
      "The top 15 words for topic # 3\n",
      "['losses', 'writedown', 'nil', 'dlr', 'operations', 'ct', 'shr', 'note', 'discontinued', 'net', 'year', 'includes', 'vs', 'revs', 'loss']\n",
      "\n",
      "\n",
      "The top 15 words for topic # 4\n",
      "['exports', 'reserves', 'marks', 'crowns', 'fell', 'dlrs', 'rose', 'assets', 'deficit', 'loans', 'deposits', 'vs', 'surplus', 'francs', 'billion']\n",
      "\n",
      "\n",
      "The top 15 words for topic # 5\n",
      "['year', 'making', 'dlr', 'debit', 'pre', 'note', 'mths', 'assets', 'turnover', 'net', 'extraordinary', 'tax', 'revs', 'vs', 'mln']\n",
      "\n",
      "\n",
      "The top 15 words for topic # 6\n",
      "['compares', 'estimate', 'provided', 'mln', 'revised', 'money', 'today', 'market', 'assistance', 'shortage', 'band', 'england', 'bills', 'bank', 'stg']\n",
      "\n",
      "\n",
      "The top 15 words for topic # 7\n",
      "['year', 'soviet', 'tender', 'season', 'tonne', 'agriculture', 'shipment', 'department', 'grain', 'corn', 'export', 'said', 'sugar', 'wheat', 'tonnes']\n",
      "\n",
      "\n",
      "The top 15 words for topic # 8\n",
      "['said', 'growth', 'inflation', 'fell', 'march', 'statistics', 'december', 'compared', 'index', 'rise', 'rose', 'year', 'january', 'february', 'pct']\n",
      "\n",
      "\n",
      "The top 15 words for topic # 9\n",
      "['market', 'nations', 'west', 'central', 'rates', 'baker', 'intervention', 'exchange', 'paris', 'dealers', 'japan', 'currency', 'said', 'yen', 'dollar']\n",
      "\n",
      "\n",
      "The top 15 words for topic # 10\n",
      "['turnover', 'parent', 'half', 'credit', 'extraordinary', 'pretax', 'francs', 'includes', 'net', 'ct', 'tax', 'year', 'nil', 'vs', 'profit']\n",
      "\n",
      "\n",
      "The top 15 words for topic # 11\n",
      "['said', 'march', 'shareholders', 'cts', 'quarterly', 'holders', 'board', 'share', 'record', 'declared', 'april', 'stock', 'payable', 'split', 'dividend']\n",
      "\n",
      "\n",
      "The top 15 words for topic # 12\n",
      "['foreign', 'deficit', 'imports', 'countries', 'government', 'tariffs', 'reagan', 'officials', 'united', 'states', 'ec', 'japanese', 'said', 'japan', 'trade']\n",
      "\n",
      "\n",
      "The top 15 words for topic # 13\n",
      "['exclude', 'tax', 'year', 'share', 'extraordinary', 'net', 'qtr', 'operations', 'dlrs', 'cts', 'note', 'discontinued', 'gain', 'excludes', 'oper']\n",
      "\n",
      "\n",
      "The top 15 words for topic # 14\n",
      "['day', 'texas', 'petroleum', 'energy', 'price', 'production', 'bpd', 'barrels', 'barrel', 'gas', 'prices', 'crude', 'opec', 'said', 'oil']\n",
      "\n",
      "\n",
      "The top 15 words for topic # 15\n",
      "['periods', 'note', 'dlrs', 'ct', 'primary', 'mths', 'nil', 'diluted', 'cts', 'sales', 'net', 'shr', 'shrs', 'avg', 'vs']\n",
      "\n",
      "\n",
      "The top 15 words for topic # 16\n",
      "['market', 'point', 'cut', 'effective', 'national', 'lending', 'central', 'prime', 'money', 'said', 'pct', 'banks', 'rates', 'rate', 'bank']\n",
      "\n",
      "\n",
      "The top 15 words for topic # 17\n",
      "['colombia', 'bags', 'international', 'meeting', 'buffer', 'prices', 'delegates', 'cocoa', 'export', 'producers', 'brazil', 'ico', 'said', 'quotas', 'coffee']\n",
      "\n",
      "\n",
      "The top 15 words for topic # 18\n",
      "['sale', 'expects', 'revenues', 'income', 'note', 'sales', 'company', 'gain', 'includes', 'earnings', 'net', 'year', 'share', 'quarter', 'dlrs']\n",
      "\n",
      "\n",
      "The top 15 words for topic # 19\n",
      "['market', 'said', 'government', 'trading', 'economists', 'securities', 'temporary', 'customer', 'agreements', 'repurchase', 'reserve', 'funds', 'reserves', 'federal', 'fed']\n",
      "\n",
      "\n"
     ]
    }
   ],
   "source": [
    "list_topic_keywords = []\n",
    "for index, topic in enumerate(nmf_model.components_):\n",
    "    print(f'The top 15 words for topic # {index}')\n",
    "    topic_keywords = [vectorizer.get_feature_names()[i] for i in topic.argsort()[-15:]]\n",
    "    print(topic_keywords)\n",
    "    list_topic_keywords.append(topic_keywords)\n",
    "    print('\\n')"
   ]
  },
  {
   "cell_type": "code",
   "execution_count": 143,
   "metadata": {},
   "outputs": [
    {
     "data": {
      "text/plain": [
       "<bound method NDFrame.head of                                    Modeled Topic List\n",
       "0   [gain, given, rev, ended, includes, seven, qtr...\n",
       "1   [previously, mthly, payable, qtrly, qtr, june,...\n",
       "2   [exchange, securities, investment, share, pct,...\n",
       "3   [losses, writedown, nil, dlr, operations, ct, ...\n",
       "4   [exports, reserves, marks, crowns, fell, dlrs,...\n",
       "5   [year, making, dlr, debit, pre, note, mths, as...\n",
       "6   [compares, estimate, provided, mln, revised, m...\n",
       "7   [year, soviet, tender, season, tonne, agricult...\n",
       "8   [said, growth, inflation, fell, march, statist...\n",
       "9   [market, nations, west, central, rates, baker,...\n",
       "10  [turnover, parent, half, credit, extraordinary...\n",
       "11  [said, march, shareholders, cts, quarterly, ho...\n",
       "12  [foreign, deficit, imports, countries, governm...\n",
       "13  [exclude, tax, year, share, extraordinary, net...\n",
       "14  [day, texas, petroleum, energy, price, product...\n",
       "15  [periods, note, dlrs, ct, primary, mths, nil, ...\n",
       "16  [market, point, cut, effective, national, lend...\n",
       "17  [colombia, bags, international, meeting, buffe...\n",
       "18  [sale, expects, revenues, income, note, sales,...\n",
       "19  [market, said, government, trading, economists...>"
      ]
     },
     "execution_count": 143,
     "metadata": {},
     "output_type": "execute_result"
    }
   ],
   "source": [
    "list_topic_keywords\n",
    "list_topic_df = pd.DataFrame({'Modeled Topic List':list_topic_keywords})\n",
    "list_topic_df.head\n",
    "\n"
   ]
  },
  {
   "cell_type": "markdown",
   "metadata": {},
   "source": [
    "# Attaching Discoverd Topic Labels to the Original Articles "
   ]
  },
  {
   "cell_type": "code",
   "execution_count": 144,
   "metadata": {},
   "outputs": [
    {
     "data": {
      "text/plain": [
       "(11367, 14543)"
      ]
     },
     "execution_count": 144,
     "metadata": {},
     "output_type": "execute_result"
    }
   ],
   "source": [
    "X.shape"
   ]
  },
  {
   "cell_type": "code",
   "execution_count": 145,
   "metadata": {},
   "outputs": [
    {
     "data": {
      "text/plain": [
       "11367"
      ]
     },
     "execution_count": 145,
     "metadata": {},
     "output_type": "execute_result"
    }
   ],
   "source": [
    "len(corpus_df)"
   ]
  },
  {
   "cell_type": "code",
   "execution_count": 146,
   "metadata": {},
   "outputs": [],
   "source": [
    "topic_results = nmf_model.transform(X)"
   ]
  },
  {
   "cell_type": "code",
   "execution_count": 147,
   "metadata": {},
   "outputs": [
    {
     "data": {
      "text/plain": [
       "(11367, 20)"
      ]
     },
     "execution_count": 147,
     "metadata": {},
     "output_type": "execute_result"
    }
   ],
   "source": [
    "topic_results.shape"
   ]
  },
  {
   "cell_type": "code",
   "execution_count": 148,
   "metadata": {},
   "outputs": [
    {
     "data": {
      "text/plain": [
       "array([0.        , 0.        , 0.        , 0.        , 0.00017467,\n",
       "       0.        , 0.        , 0.02843533, 0.00694583, 0.        ,\n",
       "       0.        , 0.        , 0.        , 0.        , 0.00547076,\n",
       "       0.        , 0.0225953 , 0.        , 0.0117854 , 0.02073644])"
      ]
     },
     "execution_count": 148,
     "metadata": {},
     "output_type": "execute_result"
    }
   ],
   "source": [
    "topic_results[1]"
   ]
  },
  {
   "cell_type": "code",
   "execution_count": 149,
   "metadata": {},
   "outputs": [
    {
     "data": {
      "text/plain": [
       "7"
      ]
     },
     "execution_count": 149,
     "metadata": {},
     "output_type": "execute_result"
    }
   ],
   "source": [
    "topic_results[1].argmax()"
   ]
  },
  {
   "cell_type": "code",
   "execution_count": 150,
   "metadata": {},
   "outputs": [],
   "source": [
    "corpus_df['Modeled Topic No.'] = topic_results.argmax(axis = 1)"
   ]
  },
  {
   "cell_type": "code",
   "execution_count": 151,
   "metadata": {},
   "outputs": [
    {
     "data": {
      "text/html": [
       "<div>\n",
       "<style scoped>\n",
       "    .dataframe tbody tr th:only-of-type {\n",
       "        vertical-align: middle;\n",
       "    }\n",
       "\n",
       "    .dataframe tbody tr th {\n",
       "        vertical-align: top;\n",
       "    }\n",
       "\n",
       "    .dataframe thead th {\n",
       "        text-align: right;\n",
       "    }\n",
       "</style>\n",
       "<table border=\"1\" class=\"dataframe\">\n",
       "  <thead>\n",
       "    <tr style=\"text-align: right;\">\n",
       "      <th></th>\n",
       "      <th>Articles</th>\n",
       "      <th>Original Topic</th>\n",
       "      <th>Modeled Topic No.</th>\n",
       "    </tr>\n",
       "  </thead>\n",
       "  <tbody>\n",
       "    <tr>\n",
       "      <th>0</th>\n",
       "      <td>showers continued throughout week bahia cocoa ...</td>\n",
       "      <td>[cocoa]</td>\n",
       "      <td>18</td>\n",
       "    </tr>\n",
       "    <tr>\n",
       "      <th>1</th>\n",
       "      <td>u agriculture department reported farmer owned...</td>\n",
       "      <td>[grain, wheat, corn, barley, oat, sorghum]</td>\n",
       "      <td>7</td>\n",
       "    </tr>\n",
       "    <tr>\n",
       "      <th>2</th>\n",
       "      <td>argentine grain board figures show crop regist...</td>\n",
       "      <td>[veg-oil, linseed, lin-oil, soy-oil, sun-oil, ...</td>\n",
       "      <td>7</td>\n",
       "    </tr>\n",
       "    <tr>\n",
       "      <th>3</th>\n",
       "      <td>champion products inc said board directors app...</td>\n",
       "      <td>[earn]</td>\n",
       "      <td>11</td>\n",
       "    </tr>\n",
       "    <tr>\n",
       "      <th>4</th>\n",
       "      <td>computer terminal systems inc said completed s...</td>\n",
       "      <td>[acq]</td>\n",
       "      <td>2</td>\n",
       "    </tr>\n",
       "    <tr>\n",
       "      <th>5</th>\n",
       "      <td>shr cts vs dlrs net vs assets mln vs mln depos...</td>\n",
       "      <td>[earn]</td>\n",
       "      <td>5</td>\n",
       "    </tr>\n",
       "    <tr>\n",
       "      <th>6</th>\n",
       "      <td>ohio mattress co said first quarter ending feb...</td>\n",
       "      <td>[earn, acq]</td>\n",
       "      <td>18</td>\n",
       "    </tr>\n",
       "    <tr>\n",
       "      <th>7</th>\n",
       "      <td>oper shr loss two cts vs profit seven cts oper...</td>\n",
       "      <td>[earn]</td>\n",
       "      <td>10</td>\n",
       "    </tr>\n",
       "    <tr>\n",
       "      <th>8</th>\n",
       "      <td>shr one dlr vs cts net mln vs mln revs mln vs ...</td>\n",
       "      <td>[earn]</td>\n",
       "      <td>5</td>\n",
       "    </tr>\n",
       "    <tr>\n",
       "      <th>9</th>\n",
       "      <td>dean foods co expects earnings fourth quarter ...</td>\n",
       "      <td>[earn]</td>\n",
       "      <td>18</td>\n",
       "    </tr>\n",
       "  </tbody>\n",
       "</table>\n",
       "</div>"
      ],
      "text/plain": [
       "                                            Articles  \\\n",
       "0  showers continued throughout week bahia cocoa ...   \n",
       "1  u agriculture department reported farmer owned...   \n",
       "2  argentine grain board figures show crop regist...   \n",
       "3  champion products inc said board directors app...   \n",
       "4  computer terminal systems inc said completed s...   \n",
       "5  shr cts vs dlrs net vs assets mln vs mln depos...   \n",
       "6  ohio mattress co said first quarter ending feb...   \n",
       "7  oper shr loss two cts vs profit seven cts oper...   \n",
       "8  shr one dlr vs cts net mln vs mln revs mln vs ...   \n",
       "9  dean foods co expects earnings fourth quarter ...   \n",
       "\n",
       "                                      Original Topic  Modeled Topic No.  \n",
       "0                                            [cocoa]                 18  \n",
       "1         [grain, wheat, corn, barley, oat, sorghum]                  7  \n",
       "2  [veg-oil, linseed, lin-oil, soy-oil, sun-oil, ...                  7  \n",
       "3                                             [earn]                 11  \n",
       "4                                              [acq]                  2  \n",
       "5                                             [earn]                  5  \n",
       "6                                        [earn, acq]                 18  \n",
       "7                                             [earn]                 10  \n",
       "8                                             [earn]                  5  \n",
       "9                                             [earn]                 18  "
      ]
     },
     "execution_count": 151,
     "metadata": {},
     "output_type": "execute_result"
    }
   ],
   "source": [
    "corpus_df.head(10)"
   ]
  },
  {
   "cell_type": "code",
   "execution_count": 152,
   "metadata": {},
   "outputs": [
    {
     "name": "stdout",
     "output_type": "stream",
     "text": [
      "Counter({0: 1645, 2: 1628, 14: 899, 18: 824, 12: 793, 7: 687, 8: 608, 1: 517, 16: 500, 4: 447, 10: 368, 9: 363, 3: 351, 15: 308, 17: 302, 11: 269, 13: 241, 5: 218, 19: 202, 6: 197})\n"
     ]
    },
    {
     "data": {
      "image/png": "[encoded data removed]",
      "text/plain": [
       "<Figure size 1440x720 with 1 Axes>"
      ]
     },
     "metadata": {
      "needs_background": "light"
     },
     "output_type": "display_data"
    }
   ],
   "source": [
    "topic_counts2 = Counter(corpus_df['Modeled Topic No.'])\n",
    "print(topic_counts2)\n",
    "df = pd.DataFrame.from_dict(topic_counts2, orient='index')\n",
    "\n",
    "df = df.sort_values(by = [0],  ascending = False)\n",
    "\n",
    "#newlist = y.index(['earn','acq'])\n",
    "ax = df.plot(kind='bar', legend = None, figsize = (20,10), fontsize = 15)"
   ]
  },
  {
   "cell_type": "code",
   "execution_count": 153,
   "metadata": {},
   "outputs": [
    {
     "name": "stdout",
     "output_type": "stream",
     "text": [
      "                                   Modeled Topic List  Count\n",
      "0   [gain, given, rev, ended, includes, seven, qtr...   1645\n",
      "2   [exchange, securities, investment, share, pct,...   1628\n",
      "14  [day, texas, petroleum, energy, price, product...    899\n",
      "18  [sale, expects, revenues, income, note, sales,...    824\n",
      "12  [foreign, deficit, imports, countries, governm...    793\n",
      "7   [year, soviet, tender, season, tonne, agricult...    687\n",
      "8   [said, growth, inflation, fell, march, statist...    608\n",
      "1   [previously, mthly, payable, qtrly, qtr, june,...    517\n",
      "16  [market, point, cut, effective, national, lend...    500\n",
      "4   [exports, reserves, marks, crowns, fell, dlrs,...    447\n",
      "10  [turnover, parent, half, credit, extraordinary...    368\n",
      "9   [market, nations, west, central, rates, baker,...    363\n",
      "3   [losses, writedown, nil, dlr, operations, ct, ...    351\n",
      "15  [periods, note, dlrs, ct, primary, mths, nil, ...    308\n",
      "17  [colombia, bags, international, meeting, buffe...    302\n",
      "11  [said, march, shareholders, cts, quarterly, ho...    269\n",
      "13  [exclude, tax, year, share, extraordinary, net...    241\n",
      "5   [year, making, dlr, debit, pre, note, mths, as...    218\n",
      "19  [market, said, government, trading, economists...    202\n",
      "6   [compares, estimate, provided, mln, revised, m...    197\n"
     ]
    }
   ],
   "source": [
    "df.head\n",
    "\n",
    "list_topic_df['Count'] = [df[0][i] for i in range(20)]\n",
    "list_topic_df = list_topic_df.sort_values(by = 'Count',  ascending = False)\n",
    "print(list_topic_df)\n",
    "list_topic_df.to_csv('Modeled_top_lst&cnt.csv')"
   ]
  },
  {
   "cell_type": "markdown",
   "metadata": {},
   "source": [
    "# Classification using LSTM\n",
    "In this section, we build a classification model using LSTM (Long short term memory). We only use the articles with topics that are in the list of top 5 frequent topics. The topics included are 'acq', 'crude', 'earn', 'grain' and 'money-fx'."
   ]
  },
  {
   "cell_type": "code",
   "execution_count": 171,
   "metadata": {},
   "outputs": [
    {
     "name": "stdout",
     "output_type": "stream",
     "text": [
      "champion products inc said board directors approved two one stock split common shares shareholders record april company also said board voted recommend shareholders annual meeting april increase authorized capital stock five mln mln shares\n"
     ]
    }
   ],
   "source": [
    "corpus_df = pd.DataFrame({'Articles':corpus, 'Topic':single_y_label})\n",
    "\n",
    "corpus_df = (corpus_df.loc[corpus_df['Topic'].isin(['acq','crude','earn','grain', 'money-fx'])])\n",
    "\n",
    "print(corpus_df.iloc[1][0])"
   ]
  },
  {
   "cell_type": "code",
   "execution_count": 172,
   "metadata": {},
   "outputs": [],
   "source": [
    "from sklearn.preprocessing import OneHotEncoder\n",
    "from sklearn.preprocessing import LabelEncoder\n",
    "from sklearn.model_selection import train_test_split\n",
    "from sklearn.metrics import confusion_matrix\n",
    "\n",
    "from keras.preprocessing import sequence\n",
    "from keras.preprocessing.text import Tokenizer\n",
    "from keras.models import Sequential\n",
    "from keras.layers import Dense, LSTM\n",
    "from keras.layers.embeddings import Embedding"
   ]
  },
  {
   "cell_type": "code",
   "execution_count": 173,
   "metadata": {},
   "outputs": [],
   "source": [
    "tokenizer = Tokenizer()\n",
    "\n",
    "tokenizer.fit_on_texts(corpus_df['Articles'])"
   ]
  },
  {
   "cell_type": "code",
   "execution_count": 183,
   "metadata": {},
   "outputs": [],
   "source": [
    "#tokenizer.word_index"
   ]
  },
  {
   "cell_type": "code",
   "execution_count": 175,
   "metadata": {},
   "outputs": [
    {
     "name": "stdout",
     "output_type": "stream",
     "text": [
      "19924\n"
     ]
    }
   ],
   "source": [
    "print(len(tokenizer.word_index))"
   ]
  },
  {
   "cell_type": "code",
   "execution_count": 176,
   "metadata": {},
   "outputs": [],
   "source": [
    "import numpy as np\n",
    "\n",
    "encoded_texts = corpus_df['Articles'].to_numpy()\n",
    "encoded_texts = tokenizer.texts_to_sequences(encoded_texts)"
   ]
  },
  {
   "cell_type": "code",
   "execution_count": 177,
   "metadata": {},
   "outputs": [
    {
     "name": "stdout",
     "output_type": "stream",
     "text": [
      "Length of file 0 : 89\n",
      "Length of file 1 : 34\n",
      "Length of file 2 : 124\n",
      "Length of file 3 : 34\n",
      "Length of file 4 : 75\n"
     ]
    }
   ],
   "source": [
    "for i in range(5):\n",
    "    print('Length of file', i, ':', len(encoded_texts[i]))"
   ]
  },
  {
   "cell_type": "code",
   "execution_count": 178,
   "metadata": {},
   "outputs": [],
   "source": [
    "encoded_texts = sequence.pad_sequences(encoded_texts, maxlen = 500)"
   ]
  },
  {
   "cell_type": "code",
   "execution_count": 179,
   "metadata": {},
   "outputs": [
    {
     "name": "stdout",
     "output_type": "stream",
     "text": [
      "(8157, 500)\n"
     ]
    }
   ],
   "source": [
    "print(encoded_texts.shape)"
   ]
  },
  {
   "cell_type": "code",
   "execution_count": 163,
   "metadata": {},
   "outputs": [
    {
     "name": "stdout",
     "output_type": "stream",
     "text": [
      "[3 2 0 ... 3 0 4]\n"
     ]
    }
   ],
   "source": [
    "y_labels = corpus_df['Topic']\n",
    "le = LabelEncoder()\n",
    "y_labels_le = le.fit_transform(y_labels)\n",
    "print(np.array(y_labels_le))"
   ]
  },
  {
   "cell_type": "code",
   "execution_count": 164,
   "metadata": {},
   "outputs": [],
   "source": [
    "y_labels_le = y_labels_le[:, np.newaxis]\n",
    "\n",
    "one_hot_encoder = OneHotEncoder(sparse = False)\n",
    "y_labels_encoded = one_hot_encoder.fit_transform(y_labels_le)"
   ]
  },
  {
   "cell_type": "code",
   "execution_count": 166,
   "metadata": {},
   "outputs": [
    {
     "data": {
      "text/plain": [
       "array([[0., 0., 0., 1., 0.],\n",
       "       [0., 0., 1., 0., 0.],\n",
       "       [1., 0., 0., 0., 0.],\n",
       "       ...,\n",
       "       [0., 0., 0., 1., 0.],\n",
       "       [1., 0., 0., 0., 0.],\n",
       "       [0., 0., 0., 0., 1.]])"
      ]
     },
     "execution_count": 166,
     "metadata": {},
     "output_type": "execute_result"
    }
   ],
   "source": [
    "y_labels_encoded"
   ]
  },
  {
   "cell_type": "markdown",
   "metadata": {},
   "source": [
    "# Model Training"
   ]
  },
  {
   "cell_type": "code",
   "execution_count": 167,
   "metadata": {
    "scrolled": false
   },
   "outputs": [
    {
     "name": "stdout",
     "output_type": "stream",
     "text": [
      "Epoch 1/15\n",
      "204/204 [==============================] - 66s 316ms/step - loss: 1.0790 - accuracy: 0.5643 - val_loss: 0.5420 - val_accuracy: 0.7518\n",
      "Epoch 2/15\n",
      "204/204 [==============================] - 66s 324ms/step - loss: 0.7223 - accuracy: 0.7249 - val_loss: 0.5722 - val_accuracy: 0.7635\n",
      "Epoch 3/15\n",
      "204/204 [==============================] - 64s 315ms/step - loss: 0.4866 - accuracy: 0.7987 - val_loss: 0.5260 - val_accuracy: 0.8156\n",
      "Epoch 4/15\n",
      "204/204 [==============================] - 63s 311ms/step - loss: 0.4371 - accuracy: 0.8396 - val_loss: 0.4309 - val_accuracy: 0.8425\n",
      "Epoch 5/15\n",
      "204/204 [==============================] - 65s 321ms/step - loss: 0.3322 - accuracy: 0.8802 - val_loss: 0.3520 - val_accuracy: 0.8768\n",
      "Epoch 6/15\n",
      "204/204 [==============================] - 66s 326ms/step - loss: 0.3697 - accuracy: 0.8725 - val_loss: 0.5933 - val_accuracy: 0.7862\n",
      "Epoch 7/15\n",
      "204/204 [==============================] - 65s 317ms/step - loss: 0.3731 - accuracy: 0.8714 - val_loss: 0.3648 - val_accuracy: 0.8781\n",
      "Epoch 8/15\n",
      "204/204 [==============================] - 65s 319ms/step - loss: 0.2430 - accuracy: 0.9140 - val_loss: 0.3129 - val_accuracy: 0.8946\n",
      "Epoch 9/15\n",
      "204/204 [==============================] - 69s 336ms/step - loss: 0.1866 - accuracy: 0.9363 - val_loss: 0.2901 - val_accuracy: 0.8891\n",
      "Epoch 10/15\n",
      "204/204 [==============================] - 68s 334ms/step - loss: 0.1509 - accuracy: 0.9407 - val_loss: 0.2915 - val_accuracy: 0.8940\n",
      "Epoch 11/15\n",
      "204/204 [==============================] - 69s 337ms/step - loss: 0.1443 - accuracy: 0.9413 - val_loss: 0.2919 - val_accuracy: 0.9038\n",
      "Epoch 12/15\n",
      "204/204 [==============================] - 66s 326ms/step - loss: 0.1498 - accuracy: 0.9355 - val_loss: 0.2711 - val_accuracy: 0.9062\n",
      "Epoch 13/15\n",
      "204/204 [==============================] - 65s 320ms/step - loss: 0.1398 - accuracy: 0.9407 - val_loss: 0.2946 - val_accuracy: 0.9020\n",
      "Epoch 14/15\n",
      "204/204 [==============================] - 65s 319ms/step - loss: 0.1310 - accuracy: 0.9427 - val_loss: 0.2727 - val_accuracy: 0.9118\n",
      "Epoch 15/15\n",
      "204/204 [==============================] - 64s 315ms/step - loss: 0.1310 - accuracy: 0.9424 - val_loss: 0.2714 - val_accuracy: 0.9081\n"
     ]
    },
    {
     "data": {
      "image/png": "[encoded data removed]",
      "text/plain": [
       "<Figure size 648x504 with 1 Axes>"
      ]
     },
     "metadata": {
      "needs_background": "light"
     },
     "output_type": "display_data"
    },
    {
     "data": {
      "image/png": "[encoded data removed]",
      "text/plain": [
       "<Figure size 648x504 with 1 Axes>"
      ]
     },
     "metadata": {
      "needs_background": "light"
     },
     "output_type": "display_data"
    }
   ],
   "source": [
    "X_train, X_test, y_train, y_test = train_test_split(encoded_texts, y_labels_encoded,test_size=0.2, random_state=11)\n",
    "\n",
    "# Construct the neural network\n",
    "model = Sequential()\n",
    "model.add(Embedding(input_dim=19925, output_dim=32, input_length=500))\n",
    "model.add(LSTM(100))\n",
    "model.add(Dense(5, activation='sigmoid'))\n",
    "\n",
    "model.compile(loss='categorical_crossentropy', \n",
    "              optimizer='adam', \n",
    "              metrics=['accuracy'])\n",
    "\n",
    "# Train the model\n",
    "history = model.fit(X_train, y_train, epochs=15, batch_size=32, validation_data=(X_test, y_test))\n",
    "\n",
    "# Save the model for future use\n",
    "model.save('news_topic_classification_lstm_model.h5')\n",
    "\n",
    "# Display the training process\n",
    "plt.figure(figsize=(9,7))\n",
    "plt.title('Accuracy score')\n",
    "plt.plot(history.history['accuracy'])\n",
    "plt.plot(history.history['val_accuracy'])\n",
    "plt.legend(['accuracy', 'val_accuracy'])\n",
    "plt.show()\n",
    "\n",
    "plt.figure(figsize=(9,7))\n",
    "plt.title('Loss value')\n",
    "plt.plot(history.history['loss'])\n",
    "plt.plot(history.history['val_loss'])\n",
    "plt.legend(['loss', 'val_loss'])\n",
    "plt.show()"
   ]
  },
  {
   "cell_type": "markdown",
   "metadata": {},
   "source": [
    "# Model Evaluation"
   ]
  },
  {
   "cell_type": "code",
   "execution_count": 180,
   "metadata": {},
   "outputs": [
    {
     "data": {
      "image/png": "[encoded data removed]",
      "text/plain": [
       "<Figure size 576x576 with 1 Axes>"
      ]
     },
     "metadata": {},
     "output_type": "display_data"
    }
   ],
   "source": [
    "import seaborn as sns; sns.set()\n",
    "\n",
    "# Predict test data\n",
    "predictions = model.predict(X_test)\n",
    "predictions = one_hot_encoder.inverse_transform(predictions)\n",
    "\n",
    "# Convert y_test (actual label) from one-hot format \n",
    "# to be in the same form of predictions array\n",
    "y_test_evaluate = np.argmax(y_test, axis=1)\n",
    "\n",
    "# Construct a confusion matrix\n",
    "cm = confusion_matrix(y_test_evaluate, predictions)\n",
    "\n",
    "labels = ['acq','crude','earn','grain', 'money-fx']\n",
    "\n",
    "# Display the confusion matrix\n",
    "plt.figure(figsize=(8,8))\n",
    "plt.title('Confusion matrix on test data')\n",
    "sns.heatmap(cm, annot=True, fmt='d', xticklabels=labels, yticklabels=labels, \n",
    "            cmap=plt.cm.Blues, cbar=False, annot_kws={'size':14})\n",
    "plt.xlabel('Predicted Label')\n",
    "plt.ylabel('True Label')\n",
    "plt.show()"
   ]
  },
  {
   "cell_type": "code",
   "execution_count": null,
   "metadata": {},
   "outputs": [],
   "source": []
  }
 ],
 "metadata": {
  "kernelspec": {
   "display_name": "Python 3",
   "language": "python",
   "name": "python3"
  },
  "language_info": {
   "codemirror_mode": {
    "name": "ipython",
    "version": 3
   },
   "file_extension": ".py",
   "mimetype": "text/x-python",
   "name": "python",
   "nbconvert_exporter": "python",
   "pygments_lexer": "ipython3",
   "version": "3.8.5"
  }
 },
 "nbformat": 4,
 "nbformat_minor": 4
}
